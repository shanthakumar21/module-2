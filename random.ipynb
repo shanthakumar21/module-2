{
 "cells": [
  {
   "cell_type": "code",
   "execution_count": 5,
   "metadata": {},
   "outputs": [
    {
     "name": "stdout",
     "output_type": "stream",
     "text": [
      "2\n",
      "4\n",
      "5\n",
      "4\n",
      "1\n",
      "2\n",
      "You got a six\n",
      "You got a six\n",
      "2\n",
      "5\n",
      "Counter({2: 3, 4: 2, 5: 2, 6: 2, 1: 1})\n"
     ]
    }
   ],
   "source": [
    "from random import randint\n",
    "from collections import Counter\n",
    " \n",
    "x = 10 \n",
    "rolls = [randint(1,6) for _ in range(x)]\n",
    " \n",
    "for roll in rolls:\n",
    "\tif roll == 6:\n",
    "\t\tprint(\"You got a six\")\n",
    "\telse:\n",
    "\t\tprint(roll)\n",
    " \n",
    "print(Counter(rolls))\n"
   ]
  },
  {
   "cell_type": "code",
   "execution_count": null,
   "metadata": {},
   "outputs": [],
   "source": []
  }
 ],
 "metadata": {
  "kernelspec": {
   "display_name": "Python 3",
   "language": "python",
   "name": "python3"
  },
  "language_info": {
   "codemirror_mode": {
    "name": "ipython",
    "version": 3
   },
   "file_extension": ".py",
   "mimetype": "text/x-python",
   "name": "python",
   "nbconvert_exporter": "python",
   "pygments_lexer": "ipython3",
   "version": "3.7.3"
  }
 },
 "nbformat": 4,
 "nbformat_minor": 4
}
